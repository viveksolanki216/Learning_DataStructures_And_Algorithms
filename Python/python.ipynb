{
 "cells": [
  {
   "metadata": {},
   "cell_type": "markdown",
   "source": "# Python",
   "id": "8d1b68c86057b588"
  },
  {
   "metadata": {
    "ExecuteTime": {
     "end_time": "2025-07-17T17:04:29.876767Z",
     "start_time": "2025-07-17T17:04:29.872342Z"
    }
   },
   "cell_type": "code",
   "source": "float('inf')",
   "id": "c561773565cedde4",
   "outputs": [
    {
     "data": {
      "text/plain": [
       "inf"
      ]
     },
     "execution_count": 2,
     "metadata": {},
     "output_type": "execute_result"
    }
   ],
   "execution_count": 2
  },
  {
   "metadata": {
    "ExecuteTime": {
     "end_time": "2025-07-17T17:04:39.551613Z",
     "start_time": "2025-07-17T17:04:39.546565Z"
    }
   },
   "cell_type": "code",
   "source": "min(1,2,3)",
   "id": "a6ad8aa53ddf3d0a",
   "outputs": [
    {
     "data": {
      "text/plain": [
       "1"
      ]
     },
     "execution_count": 3,
     "metadata": {},
     "output_type": "execute_result"
    }
   ],
   "execution_count": 3
  },
  {
   "metadata": {
    "ExecuteTime": {
     "end_time": "2025-07-17T17:05:39.307326Z",
     "start_time": "2025-07-17T17:05:39.303249Z"
    }
   },
   "cell_type": "code",
   "source": [
    "import math\n",
    "print(math.floor(3.14))\n",
    "print(math.sqrt(3))"
   ],
   "id": "98ccff81e21c1b71",
   "outputs": [
    {
     "name": "stdout",
     "output_type": "stream",
     "text": [
      "3\n",
      "1.7320508075688772\n"
     ]
    }
   ],
   "execution_count": 6
  }
 ],
 "metadata": {
  "kernelspec": {
   "display_name": "Python 3",
   "language": "python",
   "name": "python3"
  },
  "language_info": {
   "codemirror_mode": {
    "name": "ipython",
    "version": 2
   },
   "file_extension": ".py",
   "mimetype": "text/x-python",
   "name": "python",
   "nbconvert_exporter": "python",
   "pygments_lexer": "ipython2",
   "version": "2.7.6"
  }
 },
 "nbformat": 4,
 "nbformat_minor": 5
}
