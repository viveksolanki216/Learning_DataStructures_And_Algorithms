{
 "cells": [
  {
   "metadata": {},
   "cell_type": "markdown",
   "source": [
    "# Strings and Text\n",
    " - Strings are immutable sequences of Unicode code points.\n",
    " - Immutable means"
   ],
   "id": "bb9ad540539a0bb4"
  },
  {
   "metadata": {},
   "cell_type": "markdown",
   "source": "### Splitting Text",
   "id": "7b7208841f732105"
  },
  {
   "metadata": {
    "ExecuteTime": {
     "end_time": "2025-02-10T12:47:18.716966Z",
     "start_time": "2025-02-10T12:47:18.711749Z"
    }
   },
   "cell_type": "code",
   "source": [
    "line = 'asdf fjdk; afed, fjek,asdf, foo'\n",
    "import re\n",
    "list1 = re.split(r'[;,\\s]\\s*', line) # split by , or ; or space followed by zero or more spaces\n",
    "print(list1)\n",
    "print()\n",
    "\n",
    "# capture group in enclosed parantheses. If capture group is used, then the matched text is also included in the result,\n",
    "print(\"Using capture groups\")\n",
    "list2 = re.split(r'(;|,|\\s)\\s*', line)\n",
    "print(list2)\n",
    "print()\n",
    "\n",
    "# If you still need to use parantheses but do not want to capture the matched text, use non-capturing group (?:...)\n",
    "print(\"Using non-capturing groups\")\n",
    "list3 = re.split(r'(?:;|,|\\s)\\s*', line)\n",
    "print(list3)\n"
   ],
   "id": "275a25ac0be8c74",
   "outputs": [
    {
     "name": "stdout",
     "output_type": "stream",
     "text": [
      "['asdf', 'fjdk', 'afed', 'fjek', 'asdf', 'foo']\n",
      "\n",
      "Using capture groups\n",
      "['asdf', ' ', 'fjdk', ';', 'afed', ',', 'fjek', ',', 'asdf', ',', 'foo']\n",
      "\n",
      "Using non-capturing groups\n",
      "['asdf', 'fjdk', 'afed', 'fjek', 'asdf', 'foo']\n"
     ]
    }
   ],
   "execution_count": 7
  },
  {
   "metadata": {},
   "cell_type": "markdown",
   "source": "### Matching Text",
   "id": "14eef909c5902df5"
  },
  {
   "metadata": {
    "ExecuteTime": {
     "end_time": "2025-02-10T13:08:51.714328Z",
     "start_time": "2025-02-10T13:08:51.705640Z"
    }
   },
   "cell_type": "code",
   "source": [
    "line = 'http://www.python.org'\n",
    "print(line.startswith('https'))\n",
    "print(line.endswith('.org'))\n",
    "print(line.find('python'))\n",
    "print()\n",
    "\n",
    "filenames = [ 'Makefile', 'foo.c', 'bar.py', 'spam.c', 'spam.h' ]\n",
    "print(any(name.endswith('.py') for name in filenames))\n",
    "print()\n",
    "\n",
    "\n",
    "print(\"Find all dates in the text\")\n",
    "text = 'Today is 11/27/2012. PyCon starts 3/13/2013.'\n",
    "\n",
    "print(\"Using findall, non capture group, as a list of matched strings\")\n",
    "date_pattern =re.compile(r'\\d+/\\d+/\\d+') # non-capturing group\n",
    "print(date_pattern.findall(text))\n",
    "print()\n",
    "\n",
    "print(\"Using findall, capture group, as list of tuple of matched groups\")\n",
    "date_pattern = re.compile(r'(\\d+)/(\\d+)/(\\d+)') # capture group\n",
    "print(date_pattern.findall(text))\n",
    "for month, day, year in date_pattern.findall(text):\n",
    "    print('{}-{}-{}'.format(year, month, day))\n",
    "print()\n",
    "\n",
    "print(\"Using match, capture group\")\n",
    "print(\"'match' only search at the beggining of string. If you want exact match, use '^' and '$' at the beginning and end of the pattern\")\n",
    "date_pattern = re.compile(r'(\\d+)/(\\d+)/(\\d+)')\n",
    "m = date_pattern.match('11/27/2012 is the dat')\n",
    "print(m)\n",
    "print(m.groups())\n",
    "print(m.group(0), m.group(1), m.group(2), m.group(3))\n",
    "print()\n",
    "\n",
    "\n",
    "print(\"If you want a findall functionallity with match, use finditer\")\n",
    "for m in date_pattern.finditer(text):\n",
    "    print(m.groups())\n",
    "\n",
    "print()\n",
    "\n"
   ],
   "id": "a88440e4f29b60ae",
   "outputs": [
    {
     "name": "stdout",
     "output_type": "stream",
     "text": [
      "False\n",
      "True\n",
      "11\n",
      "\n",
      "True\n",
      "\n",
      "Find all dates in the text\n",
      "Using findall, non capture group, as a list of matched strings\n",
      "['11/27/2012', '3/13/2013']\n",
      "\n",
      "Using findall, capture group, as list of tuple of matched groups\n",
      "[('11', '27', '2012'), ('3', '13', '2013')]\n",
      "2012-11-27\n",
      "2013-3-13\n",
      "\n",
      "Using match, capture group\n",
      "'match' only search at the beggining of string\n",
      "<re.Match object; span=(0, 10), match='11/27/2012'>\n",
      "('11', '27', '2012')\n",
      "11/27/2012 11 27 2012\n",
      "\n",
      "If you want a findall functionallity with match, use finditer\n",
      "('11', '27', '2012')\n",
      "('3', '13', '2013')\n",
      "\n"
     ]
    }
   ],
   "execution_count": 21
  },
  {
   "metadata": {},
   "cell_type": "markdown",
   "source": "### Search and Replace\n",
   "id": "80ffab4b641bf73c"
  },
  {
   "metadata": {
    "ExecuteTime": {
     "end_time": "2025-02-10T13:18:35.556399Z",
     "start_time": "2025-02-10T13:18:35.551625Z"
    }
   },
   "cell_type": "code",
   "source": [
    "print(\"Use replace function to replace the exact substring, and not pattern\")\n",
    "text = 'Today is 11/27/2012. PyCon starts 3/13/2013.'\n",
    "print(text)\n",
    "print(text.replace('2012', '2014'))\n",
    "print()\n",
    "\n",
    "print(\"Use sub function to replace the pattern\")\n",
    "text = 'Today is 11/27/2012. PyCon starts 3/13/2013.'\n",
    "print(\"Replace all dates with '2014-09-18'\")\n",
    "print(text)\n",
    "date_pattern = re.compile(r'(\\d+)/(\\d+)/(\\d+)')\n",
    "print(date_pattern.sub('2014-09-18', text))\n",
    "print()\n",
    "\n",
    "print(\"Use sub function to rewrite the dates\")\n",
    "text = 'Today is 11/27/2012. PyCon starts 3/13/2013.'\n",
    "print(text)\n",
    "print(re.sub(r'(\\d+)/(\\d+)/(\\d+)', r'\\3-\\1-\\2', text))\n"
   ],
   "id": "5fb73c033e710011",
   "outputs": [
    {
     "name": "stdout",
     "output_type": "stream",
     "text": [
      "Use replace function to replace the exact substring, and not pattern\n",
      "Today is 11/27/2012. PyCon starts 3/13/2013.\n",
      "Today is 11/27/2014. PyCon starts 3/13/2013.\n",
      "\n",
      "Use sub function to replace the pattern\n",
      "Replace all dates with '2014-09-18'\n",
      "Today is 11/27/2012. PyCon starts 3/13/2013.\n",
      "Today is 2014-09-18. PyCon starts 2014-09-18.\n",
      "\n",
      "Use sub function to rewrite the dates\n",
      "Today is 11/27/2012. PyCon starts 3/13/2013.\n",
      "Today is 2012-11-27. PyCon starts 2013-3-13.\n"
     ]
    }
   ],
   "execution_count": 26
  },
  {
   "metadata": {
    "ExecuteTime": {
     "end_time": "2025-02-10T13:28:31.758715Z",
     "start_time": "2025-02-10T13:28:31.752700Z"
    }
   },
   "cell_type": "code",
   "source": [
    "print(\"Match and replace string disregarding the case, but retain the case of the matched string\")\n",
    "text = 'UPPER PYTHON, lower python, Mixed Python'\n",
    "print(text)\n",
    "print(re.sub('python', 'snake', text, flags=re.IGNORECASE))\n",
    "print()\n",
    "\n",
    "print(\"Use a function to replace the matched string\")\n",
    "def match_case(word): # This function returns a fundtion\n",
    "    def replace(match):\n",
    "        text = match.group()\n",
    "        if text.isupper():\n",
    "            return word.upper()\n",
    "        elif text.islower():\n",
    "            return word.lower()\n",
    "        elif text[0].isupper():\n",
    "            return word.capitalize()\n",
    "        else:\n",
    "            return word\n",
    "    return replace\n",
    "\n",
    "print(match_case(\"snake\"))\n",
    "print(re.sub('python', match_case(\"snake\"), text, flags=re.IGNORECASE))\n",
    "print()\n"
   ],
   "id": "686579fb4642abf8",
   "outputs": [
    {
     "name": "stdout",
     "output_type": "stream",
     "text": [
      "Match and replace string disregarding the case, but retain the case of the matched string\n",
      "UPPER PYTHON, lower python, Mixed Python\n",
      "UPPER snake, lower snake, Mixed snake\n",
      "\n",
      "Use a function to replace the matched string\n",
      "<function match_case.<locals>.replace at 0x10e46c8b0>\n",
      "UPPER SNAKE, lower snake, Mixed Snake\n",
      "\n"
     ]
    }
   ],
   "execution_count": 29
  },
  {
   "metadata": {},
   "cell_type": "markdown",
   "source": "e",
   "id": "55e4718b960c799c"
  }
 ],
 "metadata": {
  "kernelspec": {
   "display_name": "Python 3",
   "language": "python",
   "name": "python3"
  },
  "language_info": {
   "codemirror_mode": {
    "name": "ipython",
    "version": 2
   },
   "file_extension": ".py",
   "mimetype": "text/x-python",
   "name": "python",
   "nbconvert_exporter": "python",
   "pygments_lexer": "ipython2",
   "version": "2.7.6"
  }
 },
 "nbformat": 4,
 "nbformat_minor": 5
}
