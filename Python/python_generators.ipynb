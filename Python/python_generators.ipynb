{
 "cells": [
  {
   "cell_type": "code",
   "id": "initial_id",
   "metadata": {
    "collapsed": true,
    "ExecuteTime": {
     "end_time": "2025-02-10T06:58:31.522486Z",
     "start_time": "2025-02-10T06:58:31.512087Z"
    }
   },
   "source": [
    "\n",
    "# List comprehension\n",
    "squared_data = [x**2 for x in range(10)]\n",
    "print(squared_data)\n",
    "print()\n",
    "\n",
    "\n",
    "# Iterative statment in round brackets, this is a generator.\n",
    "# you actuall need to iterate over the generator to get the values\n",
    "squared_data = (x**2 for x in range(10))\n",
    "print(\"Generator object: \", squared_data)\n",
    "print(\"To get the values, you need to iterate over the generator\")\n",
    "print(\"Converting to list will do the job\")\n",
    "print(list(squared_data)) # empty list, because the generator is exhausted\n",
    "print(\"Once the generator is exhausted, it can't be used again\")\n",
    "[print(x) for x in squared_data]\n",
    "\n"
   ],
   "outputs": [
    {
     "name": "stdout",
     "output_type": "stream",
     "text": [
      "[0, 1, 4, 9, 16, 25, 36, 49, 64, 81]\n",
      "\n",
      "Generator object:  <generator object <genexpr> at 0x111129070>\n",
      "To get the values, you need to iterate over the generator\n",
      "Converting to list will do the job\n",
      "[0, 1, 4, 9, 16, 25, 36, 49, 64, 81]\n",
      "Once the generator is exhausted, it can't be used again\n"
     ]
    },
    {
     "data": {
      "text/plain": [
       "[]"
      ]
     },
     "execution_count": 1,
     "metadata": {},
     "output_type": "execute_result"
    }
   ],
   "execution_count": 1
  },
  {
   "metadata": {},
   "cell_type": "code",
   "source": "## User defined Generator function",
   "id": "d21c4ab324e1ae37",
   "outputs": [],
   "execution_count": null
  },
  {
   "metadata": {
    "ExecuteTime": {
     "end_time": "2025-02-10T06:58:33.304183Z",
     "start_time": "2025-02-10T06:58:33.297632Z"
    }
   },
   "cell_type": "code",
   "source": [
    "# Generator function\n",
    "def countdown(n):\n",
    "    print(\"Counting down from\", n)\n",
    "    while n > 0:\n",
    "        yield n\n",
    "        n -= 1\n",
    "    print(\"Done!\")\n",
    "\n",
    "c = countdown(3)\n",
    "print(c)\n",
    "\n",
    "# to get the next element from the generator\n",
    "print(next(c))\n",
    "print(next(c))\n",
    "print(next(c))\n",
    "print()\n",
    "print(\"It wll raise StopIteration exception after you have exhausted the generator\")\n",
    "try:\n",
    "    print(next(c)) # StopIteration exception\n",
    "except StopIteration:\n",
    "    print(\"StopIteration exception raised\")\n"
   ],
   "id": "45252900b3fe286a",
   "outputs": [
    {
     "name": "stdout",
     "output_type": "stream",
     "text": [
      "<generator object countdown at 0x11130a110>\n",
      "Counting down from 3\n",
      "3\n",
      "2\n",
      "1\n",
      "\n",
      "It wll raise StopIteration exception after you have exhausted the generator\n",
      "Done!\n",
      "StopIteration exception raised\n"
     ]
    }
   ],
   "execution_count": 2
  },
  {
   "metadata": {
    "ExecuteTime": {
     "end_time": "2025-02-10T06:58:39.183812Z",
     "start_time": "2025-02-10T06:58:39.178510Z"
    }
   },
   "cell_type": "code",
   "source": [
    "# Iteratabe objects are not subscriptable\n",
    "c = countdown(10)\n",
    "try:\n",
    "    print(list(c[4:6]))\n",
    "except TypeError as e:\n",
    "    print(e)\n",
    "\n",
    "# use itertools.islice to get a slice of the generator\n",
    "from itertools import islice\n",
    "print(list(islice(c, 4, 6)))"
   ],
   "id": "327a32aa9e80e1a4",
   "outputs": [
    {
     "name": "stdout",
     "output_type": "stream",
     "text": [
      "'generator' object is not subscriptable\n",
      "Counting down from 10\n",
      "[6, 5]\n"
     ]
    }
   ],
   "execution_count": 3
  },
  {
   "metadata": {},
   "cell_type": "markdown",
   "source": [
    "# Packaged generator function\n",
    "    - reversed\n",
    "    - zip   : to iterate over multiple iterables simultaneously\n",
    "    - map\n",
    "    - filter\n",
    "    - enumerate : if you need a counter/index for each item of the iterable\n",
    "    - iter\n",
    "    - range\n",
    "    - sorted\n",
    "    - chain : to pool together multiple iterables i.e. list1+list2\n",
    "\n"
   ],
   "id": "6f0949cf005a996c"
  },
  {
   "metadata": {
    "ExecuteTime": {
     "end_time": "2025-02-10T07:00:35.149564Z",
     "start_time": "2025-02-10T07:00:35.144365Z"
    }
   },
   "cell_type": "code",
   "source": [
    "# Generator function, reverse function\n",
    "print(reversed(range(10)))\n",
    "print(list(reversed(range(10))))\n",
    "\n",
    "from itertools import chain\n",
    "print(chain(set([1,2,3]), set([4,5,6])))\n",
    "# unflattened list\n",
    "print(\"Unflattened list\")\n",
    "list_data = [[1,2,3], [4,5,6], [7,8,9]]\n",
    "print(list(chain(*list_data)))\n"
   ],
   "id": "180ca8ce524ec2dc",
   "outputs": [
    {
     "name": "stdout",
     "output_type": "stream",
     "text": [
      "<range_iterator object at 0x111107d50>\n",
      "[9, 8, 7, 6, 5, 4, 3, 2, 1, 0]\n",
      "<itertools.chain object at 0x111171600>\n",
      "Unflattened list\n",
      "[1, 2, 3, 4, 5, 6, 7, 8, 9]\n"
     ]
    }
   ],
   "execution_count": 9
  },
  {
   "metadata": {},
   "cell_type": "code",
   "outputs": [],
   "execution_count": null,
   "source": "",
   "id": "20dac0fc05275317"
  }
 ],
 "metadata": {
  "kernelspec": {
   "display_name": "Python 3",
   "language": "python",
   "name": "python3"
  },
  "language_info": {
   "codemirror_mode": {
    "name": "ipython",
    "version": 2
   },
   "file_extension": ".py",
   "mimetype": "text/x-python",
   "name": "python",
   "nbconvert_exporter": "python",
   "pygments_lexer": "ipython2",
   "version": "2.7.6"
  }
 },
 "nbformat": 4,
 "nbformat_minor": 5
}
