{
 "cells": [
  {
   "cell_type": "markdown",
   "source": [
    "### Topic: Heap Sort in Python (From Scratch)\n",
    "### By: Vivek Singh Solanki\n",
    "### Date: 2022/Dec/21\n",
    "\n",
    "*To learn of heap data structure please refer to the \"Heap_Data_Structure.ipynb\"."
   ],
   "metadata": {
    "collapsed": false
   }
  },
  {
   "cell_type": "markdown",
   "source": [
    "##### What is Heap Sort\n",
    "Heap sort is a comparison-based sorting technique based on Binary Heap data structure. It is similar to the selection sort where we first find the minimum element and place the minimum element at the beginning. Repeat the same process for the remaining elements.\n",
    "\n",
    "- Heap sort is an in-place algorithm.\n",
    "- Its typical implementation is not stable, but can be made stable (See this)\n",
    "- Typically 2-3 times slower than well-implemented QuickSort.  The reason for slowness is a lack of locality of reference.\n",
    "\n",
    "##### Advantages of heapsort:\n",
    " - Efficiency –  The time required to perform Heap sort increases logarithmically while other algorithms may grow exponentially slower as the number of items to sort increases. This sorting algorithm is very efficient.\n",
    "- Memory Usage – Memory usage is minimal because apart from what is necessary to hold the initial list of items to be sorted, it needs no additional memory space to work\n",
    "##### Applications of HeapSort:\n",
    "- Heapsort is mainly used in hybrid algorithms like the IntroSort.\n",
    "- Sort a nearly sorted (or K sorted) array\n",
    "- k largest(or smallest) elements in an array\n",
    "- The heap sort algorithm has limited uses because Quicksort and Mergesort are better in practice. Nevertheless, the Heap data structure itself is enormously used. See Applications of Heap Data Structure\n",
    "\n",
    "##### What is meant by Heapify?\n",
    "Heapify is the process of creating a heap data structure from a binary tree represented using an array. It is used to create Min-Heap or Max-heap. Start from the first index of the non-leaf node whose index is given by n/2 – 1. Heapify uses recursion.\n",
    "\n",
    "\n"
   ],
   "metadata": {
    "collapsed": false
   }
  },
  {
   "cell_type": "code",
   "execution_count": 45,
   "outputs": [
    {
     "name": "stdout",
     "output_type": "stream",
     "text": [
      "[7, 6, 4, 3, 5, 2, 1]\n"
     ]
    }
   ],
   "source": [
    "def Heapify(arr, n, i): # For Max-Heap\n",
    "    #print(i)\n",
    "    left = 2*i + 1\n",
    "    right = 2*i + 2\n",
    "    largest = i\n",
    "    if left < n and arr[left] > arr[largest]:\n",
    "        largest = left\n",
    "    if right < n and arr[right] > arr[largest]:\n",
    "        largest = right\n",
    "\n",
    "    if largest != i: # Means there was no swap, so no need to go lower down\n",
    "        arr[i], arr[largest] = arr[largest], arr[i]\n",
    "        #print(arr)\n",
    "        Heapify(arr, n, largest)\n",
    "    return\n",
    "\n",
    "arr = [2, 6, 7, 3, 5, 4, 1]\n",
    "for i in range(int(len(arr)/2)-1,-1, -1):\n",
    "    #print(i)\n",
    "    Heapify(arr, len(arr), i)\n",
    "print(arr)"
   ],
   "metadata": {
    "collapsed": false
   }
  },
  {
   "cell_type": "code",
   "execution_count": 46,
   "outputs": [],
   "source": [
    "def heapsort(arr):\n",
    "    n = len(arr)\n",
    "\n",
    "    # Create a max-heap from the arr\n",
    "    for i in range(int(n/2)-1,-1, -1):\n",
    "        Heapify(arr, n, i)\n",
    "    #print(arr)\n",
    "    # Now in the heapied arr, root always be maximum number\n",
    "    # Now swap the root with the last element of array followed by reducing the size of heap by 1, untill no element to pop\n",
    "    for end in range(n-1, -1, -1):\n",
    "        arr[end], arr[0] = arr[0], arr[end]\n",
    "        #print(arr)\n",
    "        Heapify(arr, end, 0) # only heapify for the root element\n",
    "        #print(arr)\n",
    "\n",
    "    return\n"
   ],
   "metadata": {
    "collapsed": false
   }
  },
  {
   "cell_type": "code",
   "execution_count": 47,
   "outputs": [
    {
     "name": "stdout",
     "output_type": "stream",
     "text": [
      "[1, 2, 3, 4, 5, 6, 7, 8, 9]\n"
     ]
    }
   ],
   "source": [
    "arr = [9,8,7,6,5,4,1,2,3]\n",
    "heapsort(arr)\n",
    "print(arr)"
   ],
   "metadata": {
    "collapsed": false
   }
  },
  {
   "cell_type": "code",
   "execution_count": null,
   "outputs": [],
   "source": [],
   "metadata": {
    "collapsed": false
   }
  }
 ],
 "metadata": {
  "kernelspec": {
   "display_name": "Python 3",
   "language": "python",
   "name": "python3"
  },
  "language_info": {
   "codemirror_mode": {
    "name": "ipython",
    "version": 2
   },
   "file_extension": ".py",
   "mimetype": "text/x-python",
   "name": "python",
   "nbconvert_exporter": "python",
   "pygments_lexer": "ipython2",
   "version": "2.7.6"
  }
 },
 "nbformat": 4,
 "nbformat_minor": 0
}
