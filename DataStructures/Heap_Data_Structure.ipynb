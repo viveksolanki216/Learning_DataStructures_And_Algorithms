{
 "cells": [
  {
   "cell_type": "markdown",
   "source": [
    "### Topic: (Binary) Heap Data Structure in Python\n",
    "### By: Vivek Singh Solanki\n",
    "### Date: 2022/Dec/21"
   ],
   "metadata": {
    "collapsed": false
   }
  },
  {
   "cell_type": "markdown",
   "source": [
    "A Heap (or Binary Heap) is a special Tree-based data structure in which the tree is a complete binary tree (All levels\n",
    "are completely filled except possibly the last level and the last level has all keys as left as possible).\n",
    "\n",
    "##### Operations of Heap Data Structure:\n",
    " - Heapify: a process of creating a heap from an array. O(log N) time complexity.\n",
    " - Insertion: process to insert an element in existing heap time complexity O(log N).\n",
    " - Deletion: deleting the top element of the heap or the highest priority element, and then organizing the heap and returning the element with time complexity O(log N).\n",
    "  - Peek: to check or find the most prior element in the heap, (max or min element for max and min heap).\n",
    "\n",
    "##### Types of Heap Data Structure\n",
    "   1. Max-Heap - Key at root >= key present at all of it's of children. The sampe propery must be true for all sub-trees\n",
    "   2. Min-Heap\n",
    "\n",
    "##### Examples of Min Heap:\n",
    "\n",
    "            10                      10\n",
    "         /      \\               /       \\\n",
    "       20        100          15         30\n",
    "      /                      /  \\        /  \\\n",
    "    30                     40    50    100   40\n",
    "\n",
    "##### How is Binary Heap represented?\n",
    "A Binary Heap is a Complete Binary Tree. A binary heap is typically represented as an array.\n",
    " - The root element will be at Arr[0].\n",
    " - Below table shows indexes of other nodes for the ith node, i.e., Arr[i]:\n",
    "        Arr[(i-1)/2]\tReturns the parent node\n",
    "        Arr[(2*i)+1]\tReturns the left child node\n",
    "        Arr[(2*i)+2]\tReturns the right child node\n",
    " - The traversal method use to achieve Array representation is Level Order\n",
    "\n",
    "##### Applications of Heaps:\n",
    " 1. Heap Sort: Heap Sort uses Binary Heap to sort an array in O(nLogn) time.\n",
    " 2. Priority Queue: Priority queues can be efficiently implemented using Binary Heap because it supports insert(), delete() and extractmax(), decreaseKey() operations in O(logn) time. Binomial Heap and Fibonacci Heap are variations\n",
    "     of Binary Heap. These variations perform union also efficiently.\n",
    " 3. Graph Algorithms: The priority queues are especially used in Graph Algorithms like Dijkstra’s Shortest Path and Prim’s Minimum Spanning Tree.\n",
    " 4. Many problems can be efficiently solved using Heaps. See following for example.\n",
    "    1. K’th Largest Element in an array.\n",
    "    2. Sort an almost sorted array\n",
    "    3. Merge K Sorted Arrays.\n",
    "\n",
    "##### Operations on Min Heap:\n",
    "1. getMini(): It returns the root element of Min Heap. Time Complexity of this operation is O(1).\n",
    "2. extractMin(): Removes the minimum element from MinHeap. Time Complexity of this Operation is O(Logn) as this operation needs to maintain the heap property (by calling heapify()) after removing root.\n",
    "3. decreaseKey(): Decreases value of key. The time complexity of this operation is O(Logn). If the decreases\n",
    "     key value of a node is greater than the parent of the node, then we don’t need to do anything. Otherwise,\n",
    "     we need to traverse up to fix the violated heap property.\n",
    "4. insert(): Inserting a new key takes O(Logn) time. We add a new key at the end of the tree. IF new key is\n",
    "    greater than its parent, then we don’t need to do anything. Otherwise, we need to traverse up to fix the violated\n",
    "    heap property.\n",
    "5. delete(): Deleting a key also takes O(Logn) time. We replace the key to be deleted with minum infinite by calling decreaseKey(). After decreaseKey(), the minus infinite value must reach root, so we call extractMin() to remove\n",
    "    the key.\n",
    "\n",
    "\n"
   ],
   "metadata": {
    "collapsed": false
   }
  },
  {
   "cell_type": "code",
   "execution_count": null,
   "outputs": [],
   "source": [],
   "metadata": {
    "collapsed": false,
    "pycharm": {
     "is_executing": true
    }
   }
  },
  {
   "cell_type": "code",
   "execution_count": null,
   "outputs": [],
   "source": [],
   "metadata": {
    "collapsed": false
   }
  }
 ],
 "metadata": {
  "kernelspec": {
   "display_name": "Python 3",
   "language": "python",
   "name": "python3"
  },
  "language_info": {
   "codemirror_mode": {
    "name": "ipython",
    "version": 2
   },
   "file_extension": ".py",
   "mimetype": "text/x-python",
   "name": "python",
   "nbconvert_exporter": "python",
   "pygments_lexer": "ipython2",
   "version": "2.7.6"
  }
 },
 "nbformat": 4,
 "nbformat_minor": 0
}
