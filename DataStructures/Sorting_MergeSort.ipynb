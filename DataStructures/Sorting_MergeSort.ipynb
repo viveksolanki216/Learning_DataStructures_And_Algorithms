{
 "cells": [
  {
   "cell_type": "markdown",
   "source": [
    "# Topic: Merge Sort in Python\n",
    "# By: Vivek Singh Solanki"
   ],
   "metadata": {
    "collapsed": false
   }
  },
  {
   "cell_type": "code",
   "execution_count": 1,
   "outputs": [],
   "source": [
    "def mergeSort(arr):\n",
    "    #print(len(arr))\n",
    "    # Recursion termination condition\n",
    "    if len(arr) == 1:\n",
    "        return\n",
    "    mid = len(arr)//2\n",
    "    L = arr[0:mid]\n",
    "    R = arr[mid:len(arr)]\n",
    "    # Call Recursion on half left and half right of the array\n",
    "    mergeSort(L)\n",
    "    mergeSort(R)\n",
    "\n",
    "    # Merging back both halves into a single array\n",
    "    # Takes O(n) running time\n",
    "    i = j = k = 0\n",
    "    while i < len(L) and j < len(R):\n",
    "        if L[i] <= R[j]:\n",
    "            arr[k] = L[i]\n",
    "            i += 1\n",
    "            k += 1\n",
    "        else:\n",
    "            arr[k] = R[j]\n",
    "            j += 1\n",
    "            k += 1\n",
    "\n",
    "    while i < len(L):\n",
    "        arr[k] = L[i]\n",
    "        i += 1\n",
    "        k += 1\n",
    "\n",
    "    while j < len(R):\n",
    "        arr[k] = R[j]\n",
    "        j += 1\n",
    "        k += 1\n",
    "\n",
    "    return"
   ],
   "metadata": {
    "collapsed": false
   }
  },
  {
   "cell_type": "code",
   "execution_count": 3,
   "outputs": [
    {
     "name": "stdout",
     "output_type": "stream",
     "text": [
      "[1, 2, 3, 4]\n"
     ]
    }
   ],
   "source": [
    "arr = [4,3,2,1]\n",
    "mergeSort(arr)\n",
    "print(arr)"
   ],
   "metadata": {
    "collapsed": false
   }
  }
 ],
 "metadata": {
  "kernelspec": {
   "display_name": "Python 3",
   "language": "python",
   "name": "python3"
  },
  "language_info": {
   "codemirror_mode": {
    "name": "ipython",
    "version": 2
   },
   "file_extension": ".py",
   "mimetype": "text/x-python",
   "name": "python",
   "nbconvert_exporter": "python",
   "pygments_lexer": "ipython2",
   "version": "2.7.6"
  }
 },
 "nbformat": 4,
 "nbformat_minor": 0
}
