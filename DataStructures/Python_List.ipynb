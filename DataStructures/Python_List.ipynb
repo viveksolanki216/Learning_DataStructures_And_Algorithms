{
 "cells": [
  {
   "metadata": {},
   "cell_type": "markdown",
   "source": [
    "# Python List\n",
    "\n",
    "- A collection of different types items\n",
    "- Mutable\n",
    "- Actual values of elements are stored in differnt memory locations but thier references are stored in contiguous memory locations.\n",
    "- Maintain order of elements\n",
    "- Access items directly using index\n",
    "\n",
    "Methods:\n",
    "  - append(item) at the end of the list\n",
    "  - extend(list)\n",
    "  - insert(index, item) at the index\n",
    "  - remove(item) removes the first occurrence of the item\n",
    "  - pop(index) removes the item at the index or the last item and returns it\n",
    "  - del list[index] removes the item at the index\n",
    "  - index(item) returns the index of the first occurrence of the item\n",
    "  - sort(list) sorts the list in place\n",
    "\n",
    "Slicing:\n",
    "  - list[start:end] returns a new list with the items from start to end-1\n",
    "  - list[start:] returns a new list with the items from start to the end\n",
    "  - list[:end] returns a new list with the items from the beginning to end-1\n",
    "  - list[:] returns a shallow copy of the list\n",
    "  - list[::step] returns a new list with the items from the beginning to the end with the given step\n",
    "  - Negative indexing:\n",
    "    - list[-1] returns the last item\n",
    "    - list[-2] returns the second last item\n",
    "    - list[-n] returns the nth last item\n",
    "    - list[-start:-end:step] returns a new list with the items from the nth last item to the mth last item with the given step\n",
    "    - list[::-1] returns a new list with the items in reverse order\n",
    "        -\n",
    "\n",
    "\n",
    "\n",
    "\n"
   ],
   "id": "d90f5f966774d800"
  }
 ],
 "metadata": {
  "kernelspec": {
   "display_name": "Python 3",
   "language": "python",
   "name": "python3"
  },
  "language_info": {
   "codemirror_mode": {
    "name": "ipython",
    "version": 2
   },
   "file_extension": ".py",
   "mimetype": "text/x-python",
   "name": "python",
   "nbconvert_exporter": "python",
   "pygments_lexer": "ipython2",
   "version": "2.7.6"
  }
 },
 "nbformat": 4,
 "nbformat_minor": 5
}
